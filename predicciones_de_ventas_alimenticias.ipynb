{
  "nbformat": 4,
  "nbformat_minor": 0,
  "metadata": {
    "colab": {
      "provenance": [],
      "include_colab_link": true
    },
    "kernelspec": {
      "name": "python3",
      "display_name": "Python 3"
    },
    "language_info": {
      "name": "python"
    }
  },
  "cells": [
    {
      "cell_type": "markdown",
      "metadata": {
        "id": "view-in-github",
        "colab_type": "text"
      },
      "source": [
        "<a href=\"https://colab.research.google.com/github/jjaquezrd/predicciones-de-ventas-alimenticias/blob/main/predicciones_de_ventas_alimenticias.ipynb\" target=\"_parent\"><img src=\"https://colab.research.google.com/assets/colab-badge.svg\" alt=\"Open In Colab\"/></a>"
      ]
    },
    {
      "cell_type": "markdown",
      "source": [
        "##predicciones de ventas alimenticias"
      ],
      "metadata": {
        "id": "ue0WGKoK39EE"
      }
    },
    {
      "cell_type": "code",
      "source": [
        "import pandas as pd\n",
        "import matplotlib.pyplot as plt\n",
        "import numpy as np\n",
        "import seaborn as sns"
      ],
      "metadata": {
        "id": "1c0RPcLU38v2"
      },
      "execution_count": 13,
      "outputs": []
    },
    {
      "cell_type": "code",
      "source": [
        "file_name = '/content/drive/MyDrive/Data_Science/DataSet/sales_predictions.csv'\n",
        "df = pd.read_csv(file_name)\n"
      ],
      "metadata": {
        "id": "T6Wd2VtT4dv9"
      },
      "execution_count": 14,
      "outputs": []
    },
    {
      "cell_type": "code",
      "source": [
        "from google.colab import drive\n",
        "drive.mount('/content/drive')"
      ],
      "metadata": {
        "colab": {
          "base_uri": "https://localhost:8080/"
        },
        "id": "UHovaKCL5Rpb",
        "outputId": "629f8c4a-d50b-425d-f27b-36ed55de8d6b"
      },
      "execution_count": 15,
      "outputs": [
        {
          "output_type": "stream",
          "name": "stdout",
          "text": [
            "Drive already mounted at /content/drive; to attempt to forcibly remount, call drive.mount(\"/content/drive\", force_remount=True).\n"
          ]
        }
      ]
    },
    {
      "cell_type": "markdown",
      "source": [
        "# 1) ¿Cuántas filas y columnas?"
      ],
      "metadata": {
        "id": "rXJ5MLkHeDMq"
      }
    },
    {
      "cell_type": "code",
      "source": [
        "df.shape"
      ],
      "metadata": {
        "colab": {
          "base_uri": "https://localhost:8080/"
        },
        "id": "PfouMG6_eFjv",
        "outputId": "113630bf-4403-4680-9d2d-478c5c326fac"
      },
      "execution_count": 16,
      "outputs": [
        {
          "output_type": "execute_result",
          "data": {
            "text/plain": [
              "(8523, 12)"
            ]
          },
          "metadata": {},
          "execution_count": 16
        }
      ]
    },
    {
      "cell_type": "markdown",
      "source": [
        "# 2) ¿Cuáles son los tipos de datos en cada variable?"
      ],
      "metadata": {
        "id": "-VlTqxYheQMN"
      }
    },
    {
      "cell_type": "code",
      "source": [
        "df.dtypes"
      ],
      "metadata": {
        "colab": {
          "base_uri": "https://localhost:8080/"
        },
        "id": "2ElCeDqoeS77",
        "outputId": "b764df55-9319-4850-a811-0490b07d3aeb"
      },
      "execution_count": 17,
      "outputs": [
        {
          "output_type": "execute_result",
          "data": {
            "text/plain": [
              "Item_Identifier               object\n",
              "Item_Weight                  float64\n",
              "Item_Fat_Content              object\n",
              "Item_Visibility              float64\n",
              "Item_Type                     object\n",
              "Item_MRP                     float64\n",
              "Outlet_Identifier             object\n",
              "Outlet_Establishment_Year      int64\n",
              "Outlet_Size                   object\n",
              "Outlet_Location_Type          object\n",
              "Outlet_Type                   object\n",
              "Item_Outlet_Sales            float64\n",
              "dtype: object"
            ]
          },
          "metadata": {},
          "execution_count": 17
        }
      ]
    },
    {
      "cell_type": "markdown",
      "source": [
        "# 3) ¿Hay duplicados? Si es el caso, eliminen algunos duplicados."
      ],
      "metadata": {
        "id": "tKQcx7JWe5b2"
      }
    },
    {
      "cell_type": "code",
      "source": [
        "df.duplicated().sum()"
      ],
      "metadata": {
        "colab": {
          "base_uri": "https://localhost:8080/"
        },
        "id": "b09AH5wie-GH",
        "outputId": "1c36d05a-ad74-421e-e209-24226437c4bc"
      },
      "execution_count": 18,
      "outputs": [
        {
          "output_type": "execute_result",
          "data": {
            "text/plain": [
              "0"
            ]
          },
          "metadata": {},
          "execution_count": 18
        }
      ]
    },
    {
      "cell_type": "markdown",
      "source": [
        "Segun el resultado planteado mas arriba, no se muestran filas o registros duplicados"
      ],
      "metadata": {
        "id": "cLgLUWS4fJ2y"
      }
    },
    {
      "cell_type": "markdown",
      "source": [
        "# 4) Identifiquen los valores faltantes."
      ],
      "metadata": {
        "id": "NGFOM8L2fVhR"
      }
    },
    {
      "cell_type": "code",
      "source": [
        "df.info()"
      ],
      "metadata": {
        "colab": {
          "base_uri": "https://localhost:8080/"
        },
        "id": "r3kn5SFIfa0_",
        "outputId": "9137a362-70ae-445d-b872-ed565ad0b996"
      },
      "execution_count": 19,
      "outputs": [
        {
          "output_type": "stream",
          "name": "stdout",
          "text": [
            "<class 'pandas.core.frame.DataFrame'>\n",
            "RangeIndex: 8523 entries, 0 to 8522\n",
            "Data columns (total 12 columns):\n",
            " #   Column                     Non-Null Count  Dtype  \n",
            "---  ------                     --------------  -----  \n",
            " 0   Item_Identifier            8523 non-null   object \n",
            " 1   Item_Weight                7060 non-null   float64\n",
            " 2   Item_Fat_Content           8523 non-null   object \n",
            " 3   Item_Visibility            8523 non-null   float64\n",
            " 4   Item_Type                  8523 non-null   object \n",
            " 5   Item_MRP                   8523 non-null   float64\n",
            " 6   Outlet_Identifier          8523 non-null   object \n",
            " 7   Outlet_Establishment_Year  8523 non-null   int64  \n",
            " 8   Outlet_Size                6113 non-null   object \n",
            " 9   Outlet_Location_Type       8523 non-null   object \n",
            " 10  Outlet_Type                8523 non-null   object \n",
            " 11  Item_Outlet_Sales          8523 non-null   float64\n",
            "dtypes: float64(4), int64(1), object(7)\n",
            "memory usage: 799.2+ KB\n"
          ]
        }
      ]
    },
    {
      "cell_type": "markdown",
      "source": [
        "Se identifican valores faltantes para las columnas \"Item_Weight\" y \"Outlet_Size\""
      ],
      "metadata": {
        "id": "cUQQCGKTfdum"
      }
    },
    {
      "cell_type": "markdown",
      "source": [
        "# 5) Decidan cómo abordar los valores faltantes y cómo hacerlo. (Esto requiere sus criterios, así que expliquen su elección)."
      ],
      "metadata": {
        "id": "GRw6ebo7ftOM"
      }
    },
    {
      "cell_type": "markdown",
      "source": [
        "Para los valores faltantes de la columna Item_Weight, en primera instancia se procedio a identificar y agrupar por \"Item_identifier\" cada producto con el fin de determinar si el mismo se encuentra presente en otro comercio y con los datos completos"
      ],
      "metadata": {
        "id": "W1Xa8nVbfyJS"
      }
    },
    {
      "cell_type": "markdown",
      "source": [
        "Agrupacion por Item Identifier cuando el Item_Weight esta vacio"
      ],
      "metadata": {
        "id": "L1qshvBUg8fj"
      }
    },
    {
      "cell_type": "code",
      "source": [
        "peso_null_filter = df['Item_Weight'].isna()\n",
        "df[peso_null_filter].groupby('Item_Identifier')['Item_Identifier'].count()"
      ],
      "metadata": {
        "colab": {
          "base_uri": "https://localhost:8080/"
        },
        "id": "hWVlzAFPgTeW",
        "outputId": "f7caf192-cbb9-4e1c-f132-af65dc5c705a"
      },
      "execution_count": 20,
      "outputs": [
        {
          "output_type": "execute_result",
          "data": {
            "text/plain": [
              "Item_Identifier\n",
              "DRA24    2\n",
              "DRA59    2\n",
              "DRB01    1\n",
              "DRB25    1\n",
              "DRB48    1\n",
              "        ..\n",
              "NCZ17    1\n",
              "NCZ18    1\n",
              "NCZ30    1\n",
              "NCZ53    1\n",
              "NCZ54    2\n",
              "Name: Item_Identifier, Length: 1142, dtype: int64"
            ]
          },
          "metadata": {},
          "execution_count": 20
        }
      ]
    },
    {
      "cell_type": "markdown",
      "source": [
        "Agrupacion por Item Identifier cuando el Item_Weight no esta vacio"
      ],
      "metadata": {
        "id": "AoqQ-fEphQPQ"
      }
    },
    {
      "cell_type": "code",
      "source": [
        "peso_null_filter = df['Item_Weight'].isna()==False\n",
        "df[peso_null_filter].groupby('Item_Identifier')['Item_Identifier'].count()"
      ],
      "metadata": {
        "colab": {
          "base_uri": "https://localhost:8080/"
        },
        "id": "DDxiZVE7gwT-",
        "outputId": "cad7eda5-1bdd-46c9-d2ce-0254dd819df3"
      },
      "execution_count": 21,
      "outputs": [
        {
          "output_type": "execute_result",
          "data": {
            "text/plain": [
              "Item_Identifier\n",
              "DRA12    6\n",
              "DRA24    5\n",
              "DRA59    6\n",
              "DRB01    2\n",
              "DRB13    5\n",
              "        ..\n",
              "NCZ30    6\n",
              "NCZ41    5\n",
              "NCZ42    5\n",
              "NCZ53    4\n",
              "NCZ54    5\n",
              "Name: Item_Identifier, Length: 1555, dtype: int64"
            ]
          },
          "metadata": {},
          "execution_count": 21
        }
      ]
    },
    {
      "cell_type": "markdown",
      "source": [
        "Como resultado se puede comprobar la hipotesis de que existen productos existentes en ambos grupos (Item_weight vacio y viseversa). Por lo que se procedera a completar los datos vacios usando la informacion del mismo Item_Identifier que le corresponda."
      ],
      "metadata": {
        "id": "TZYCKb74g6Oc"
      }
    },
    {
      "cell_type": "code",
      "source": [
        "def update_Item_Weight(Item_Identifier):\n",
        "  #aplica filtro para localizar el identificador\n",
        "  Item_Identifier_filter = df['Item_Identifier']== Item_Identifier\n",
        "  #obten el valor minimo del identificador filtrado\n",
        "  Valor_min = df[Item_Identifier_filter]['Item_Weight'].min()\n",
        "  return Valor_min\n",
        "  "
      ],
      "metadata": {
        "id": "aa96GNox8Z1m"
      },
      "execution_count": 22,
      "outputs": []
    },
    {
      "cell_type": "code",
      "source": [
        "#crea filtro para los productos que tengan el peso vacio\n",
        "peso_null_filter = df['Item_Weight'].isna()\n",
        "#se aplica funcion para actualizar la columna del peso siempre y cuando este vacia.\n",
        "df.loc[peso_null_filter,'Item_Weight']= df.apply(lambda x:update_Item_Weight(x['Item_Identifier']), axis=1)\n",
        "peso_null_filter = df['Item_Weight'].isna()"
      ],
      "metadata": {
        "id": "N3a_oyOu5Fd_"
      },
      "execution_count": 23,
      "outputs": []
    },
    {
      "cell_type": "markdown",
      "source": [
        "Luego de ejecutado el proceso de llenado de datos, se presentan 4 registros con valores vacios. Debido a que este numero no es representativo, y para evitar elminar estas filas de la muestra, se procede a completar con 0 el valor."
      ],
      "metadata": {
        "id": "g_Ol9DeHiSIr"
      }
    },
    {
      "cell_type": "code",
      "source": [
        "df[peso_null_filter].groupby('Item_Identifier')['Item_Identifier'].count()"
      ],
      "metadata": {
        "colab": {
          "base_uri": "https://localhost:8080/"
        },
        "id": "KgIlQ1RfGorR",
        "outputId": "b49634e0-b835-47bb-d2ad-82a4f2e2e4b5"
      },
      "execution_count": 24,
      "outputs": [
        {
          "output_type": "execute_result",
          "data": {
            "text/plain": [
              "Item_Identifier\n",
              "FDE52    1\n",
              "FDK57    1\n",
              "FDN52    1\n",
              "FDQ60    1\n",
              "Name: Item_Identifier, dtype: int64"
            ]
          },
          "metadata": {},
          "execution_count": 24
        }
      ]
    },
    {
      "cell_type": "code",
      "source": [
        "df['Item_Weight']=df['Item_Weight'].fillna(0.00)"
      ],
      "metadata": {
        "id": "IxqDDLq-ihSw"
      },
      "execution_count": 25,
      "outputs": []
    },
    {
      "cell_type": "markdown",
      "source": [
        "Comprobando la no existencia de valores nulos para la columna Item_Weight"
      ],
      "metadata": {
        "id": "tL6GHCEVjDP5"
      }
    },
    {
      "cell_type": "code",
      "source": [
        "df.info()"
      ],
      "metadata": {
        "colab": {
          "base_uri": "https://localhost:8080/"
        },
        "id": "isnAQbrxIfQx",
        "outputId": "3fc5ebc5-0b7e-4511-f764-73d1c00ae741"
      },
      "execution_count": 26,
      "outputs": [
        {
          "output_type": "stream",
          "name": "stdout",
          "text": [
            "<class 'pandas.core.frame.DataFrame'>\n",
            "RangeIndex: 8523 entries, 0 to 8522\n",
            "Data columns (total 12 columns):\n",
            " #   Column                     Non-Null Count  Dtype  \n",
            "---  ------                     --------------  -----  \n",
            " 0   Item_Identifier            8523 non-null   object \n",
            " 1   Item_Weight                8523 non-null   float64\n",
            " 2   Item_Fat_Content           8523 non-null   object \n",
            " 3   Item_Visibility            8523 non-null   float64\n",
            " 4   Item_Type                  8523 non-null   object \n",
            " 5   Item_MRP                   8523 non-null   float64\n",
            " 6   Outlet_Identifier          8523 non-null   object \n",
            " 7   Outlet_Establishment_Year  8523 non-null   int64  \n",
            " 8   Outlet_Size                6113 non-null   object \n",
            " 9   Outlet_Location_Type       8523 non-null   object \n",
            " 10  Outlet_Type                8523 non-null   object \n",
            " 11  Item_Outlet_Sales          8523 non-null   float64\n",
            "dtypes: float64(4), int64(1), object(7)\n",
            "memory usage: 799.2+ KB\n"
          ]
        }
      ]
    },
    {
      "cell_type": "markdown",
      "source": [
        "Tratamiento para la columna Outlet_Size: para este punto se procedio a verificar el detalle de los comercios con el valor faltante, para verificar el impacto. Se agrupo la data por Outlet_Idenfifier, Outlet_Type, Outlet_Location_Type, con el fin de tener contexto de la informacion"
      ],
      "metadata": {
        "id": "gcKaseLIjOh5"
      }
    },
    {
      "cell_type": "code",
      "source": [
        "filtro_Outlet_size_na = df['Outlet_Identifier']\n",
        "filtro_size_na = df['Outlet_Size'].isna()\n",
        "df[filtro_size_na].groupby(['Outlet_Identifier','Outlet_Type', 'Outlet_Location_Type'])['Outlet_Identifier'].count()"
      ],
      "metadata": {
        "colab": {
          "base_uri": "https://localhost:8080/"
        },
        "id": "95CqdJKzJwZq",
        "outputId": "8eb9576e-03f2-4cd4-c75c-38591e5dd983"
      },
      "execution_count": 27,
      "outputs": [
        {
          "output_type": "execute_result",
          "data": {
            "text/plain": [
              "Outlet_Identifier  Outlet_Type        Outlet_Location_Type\n",
              "OUT010             Grocery Store      Tier 3                  555\n",
              "OUT017             Supermarket Type1  Tier 2                  926\n",
              "OUT045             Supermarket Type1  Tier 2                  929\n",
              "Name: Outlet_Identifier, dtype: int64"
            ]
          },
          "metadata": {},
          "execution_count": 27
        }
      ]
    },
    {
      "cell_type": "markdown",
      "source": [
        "Se identifica que solo tres comercios representan el impacto de los valores nulos en esta columna. Se procede a verificar los comercios con valores no nulos con el proposito de obtener contexto e identificar el patron"
      ],
      "metadata": {
        "id": "jjp6QTjRjtop"
      }
    },
    {
      "cell_type": "code",
      "source": [
        "df.groupby(['Outlet_Type','Outlet_Size','Outlet_Location_Type'])['Outlet_Size'].count()"
      ],
      "metadata": {
        "colab": {
          "base_uri": "https://localhost:8080/"
        },
        "id": "1OzH50UGQjMF",
        "outputId": "5e7b5d4a-a0b4-4baa-8371-4b4f95481d06"
      },
      "execution_count": 28,
      "outputs": [
        {
          "output_type": "execute_result",
          "data": {
            "text/plain": [
              "Outlet_Type        Outlet_Size  Outlet_Location_Type\n",
              "Grocery Store      Small        Tier 1                  528\n",
              "Supermarket Type1  High         Tier 3                  932\n",
              "                   Medium       Tier 1                  930\n",
              "                   Small        Tier 1                  930\n",
              "                                Tier 2                  930\n",
              "Supermarket Type2  Medium       Tier 3                  928\n",
              "Supermarket Type3  Medium       Tier 3                  935\n",
              "Name: Outlet_Size, dtype: int64"
            ]
          },
          "metadata": {},
          "execution_count": 28
        }
      ]
    },
    {
      "cell_type": "markdown",
      "source": [
        "Visto los datos mas arriba, se puede deducir que colocar \"Small\" para los tres comercios que representan valores nulos, no representa mayor riesgo para el ejercicio y los resultados finales. Segun la muestra se observa que para el Segmento Grocery Store, en el universo la generalidad es que sean de tamano Small. Mientras que para los Supermercados Tipo 1, aunque existen tres categorias, valiendonos de la columna Outlet_Location_Type, no existe en el universo de los datos la combinacion Supermercado Tipo 1 + Tier 2 como es nuestro caso, por lo que procederemos a completar como Small."
      ],
      "metadata": {
        "id": "penFjUFUj7Nu"
      }
    },
    {
      "cell_type": "code",
      "source": [
        "OutletIdentifier_filter = df['Outlet_Identifier']=='OUT010'\n",
        "df.loc[OutletIdentifier_filter,'Outlet_Size']= \"Small\"\n",
        "df.info()"
      ],
      "metadata": {
        "colab": {
          "base_uri": "https://localhost:8080/"
        },
        "id": "r82eSJf7c1QA",
        "outputId": "6f0e5f7a-3cf7-41d9-8afc-032835ea65f4"
      },
      "execution_count": 29,
      "outputs": [
        {
          "output_type": "stream",
          "name": "stdout",
          "text": [
            "<class 'pandas.core.frame.DataFrame'>\n",
            "RangeIndex: 8523 entries, 0 to 8522\n",
            "Data columns (total 12 columns):\n",
            " #   Column                     Non-Null Count  Dtype  \n",
            "---  ------                     --------------  -----  \n",
            " 0   Item_Identifier            8523 non-null   object \n",
            " 1   Item_Weight                8523 non-null   float64\n",
            " 2   Item_Fat_Content           8523 non-null   object \n",
            " 3   Item_Visibility            8523 non-null   float64\n",
            " 4   Item_Type                  8523 non-null   object \n",
            " 5   Item_MRP                   8523 non-null   float64\n",
            " 6   Outlet_Identifier          8523 non-null   object \n",
            " 7   Outlet_Establishment_Year  8523 non-null   int64  \n",
            " 8   Outlet_Size                6668 non-null   object \n",
            " 9   Outlet_Location_Type       8523 non-null   object \n",
            " 10  Outlet_Type                8523 non-null   object \n",
            " 11  Item_Outlet_Sales          8523 non-null   float64\n",
            "dtypes: float64(4), int64(1), object(7)\n",
            "memory usage: 799.2+ KB\n"
          ]
        }
      ]
    },
    {
      "cell_type": "code",
      "source": [
        "OutletIdentifier_filter = df['Outlet_Identifier']=='OUT017'\n",
        "df.loc[OutletIdentifier_filter,'Outlet_Size']= \"Small\"\n",
        "df.info()"
      ],
      "metadata": {
        "colab": {
          "base_uri": "https://localhost:8080/"
        },
        "id": "NAWxofaGbL08",
        "outputId": "cd17bc5f-b310-4a40-b897-1ed4f4747cf2"
      },
      "execution_count": 30,
      "outputs": [
        {
          "output_type": "stream",
          "name": "stdout",
          "text": [
            "<class 'pandas.core.frame.DataFrame'>\n",
            "RangeIndex: 8523 entries, 0 to 8522\n",
            "Data columns (total 12 columns):\n",
            " #   Column                     Non-Null Count  Dtype  \n",
            "---  ------                     --------------  -----  \n",
            " 0   Item_Identifier            8523 non-null   object \n",
            " 1   Item_Weight                8523 non-null   float64\n",
            " 2   Item_Fat_Content           8523 non-null   object \n",
            " 3   Item_Visibility            8523 non-null   float64\n",
            " 4   Item_Type                  8523 non-null   object \n",
            " 5   Item_MRP                   8523 non-null   float64\n",
            " 6   Outlet_Identifier          8523 non-null   object \n",
            " 7   Outlet_Establishment_Year  8523 non-null   int64  \n",
            " 8   Outlet_Size                7594 non-null   object \n",
            " 9   Outlet_Location_Type       8523 non-null   object \n",
            " 10  Outlet_Type                8523 non-null   object \n",
            " 11  Item_Outlet_Sales          8523 non-null   float64\n",
            "dtypes: float64(4), int64(1), object(7)\n",
            "memory usage: 799.2+ KB\n"
          ]
        }
      ]
    },
    {
      "cell_type": "code",
      "source": [
        "OutletIdentifier_filter = df['Outlet_Identifier']=='OUT045'\n",
        "df.loc[OutletIdentifier_filter,'Outlet_Size']= \"Small\"\n",
        "df.info()"
      ],
      "metadata": {
        "colab": {
          "base_uri": "https://localhost:8080/"
        },
        "id": "oGGKZnMETtZ7",
        "outputId": "972cfff8-315a-4db2-b81a-aeec944074c1"
      },
      "execution_count": 31,
      "outputs": [
        {
          "output_type": "stream",
          "name": "stdout",
          "text": [
            "<class 'pandas.core.frame.DataFrame'>\n",
            "RangeIndex: 8523 entries, 0 to 8522\n",
            "Data columns (total 12 columns):\n",
            " #   Column                     Non-Null Count  Dtype  \n",
            "---  ------                     --------------  -----  \n",
            " 0   Item_Identifier            8523 non-null   object \n",
            " 1   Item_Weight                8523 non-null   float64\n",
            " 2   Item_Fat_Content           8523 non-null   object \n",
            " 3   Item_Visibility            8523 non-null   float64\n",
            " 4   Item_Type                  8523 non-null   object \n",
            " 5   Item_MRP                   8523 non-null   float64\n",
            " 6   Outlet_Identifier          8523 non-null   object \n",
            " 7   Outlet_Establishment_Year  8523 non-null   int64  \n",
            " 8   Outlet_Size                8523 non-null   object \n",
            " 9   Outlet_Location_Type       8523 non-null   object \n",
            " 10  Outlet_Type                8523 non-null   object \n",
            " 11  Item_Outlet_Sales          8523 non-null   float64\n",
            "dtypes: float64(4), int64(1), object(7)\n",
            "memory usage: 799.2+ KB\n"
          ]
        }
      ]
    },
    {
      "cell_type": "markdown",
      "source": [
        "# 6) Confirmen que no hay valores faltantes después de abordarlos."
      ],
      "metadata": {
        "id": "BOrQZRGHk0iT"
      }
    },
    {
      "cell_type": "code",
      "source": [
        "df.info()"
      ],
      "metadata": {
        "colab": {
          "base_uri": "https://localhost:8080/"
        },
        "id": "IP35OoNOUBEH",
        "outputId": "966020db-16fe-486b-e6bd-b274f4d5278c"
      },
      "execution_count": 32,
      "outputs": [
        {
          "output_type": "stream",
          "name": "stdout",
          "text": [
            "<class 'pandas.core.frame.DataFrame'>\n",
            "RangeIndex: 8523 entries, 0 to 8522\n",
            "Data columns (total 12 columns):\n",
            " #   Column                     Non-Null Count  Dtype  \n",
            "---  ------                     --------------  -----  \n",
            " 0   Item_Identifier            8523 non-null   object \n",
            " 1   Item_Weight                8523 non-null   float64\n",
            " 2   Item_Fat_Content           8523 non-null   object \n",
            " 3   Item_Visibility            8523 non-null   float64\n",
            " 4   Item_Type                  8523 non-null   object \n",
            " 5   Item_MRP                   8523 non-null   float64\n",
            " 6   Outlet_Identifier          8523 non-null   object \n",
            " 7   Outlet_Establishment_Year  8523 non-null   int64  \n",
            " 8   Outlet_Size                8523 non-null   object \n",
            " 9   Outlet_Location_Type       8523 non-null   object \n",
            " 10  Outlet_Type                8523 non-null   object \n",
            " 11  Item_Outlet_Sales          8523 non-null   float64\n",
            "dtypes: float64(4), int64(1), object(7)\n",
            "memory usage: 799.2+ KB\n"
          ]
        }
      ]
    },
    {
      "cell_type": "markdown",
      "source": [
        "# 7) Encuentren y arreglen alguna categoría inconsistente de datos (example: fix cat, Cat, and cats so that they are consistent) "
      ],
      "metadata": {
        "id": "ucq-VAyglCLg"
      }
    },
    {
      "cell_type": "markdown",
      "source": [
        "Se procedio a actualizar los valores para todos las columnas identificadas con el tipo de datos \"Object\". Se comprueba que el tipo de datos adecuado es el String. Se realizo confirmacion visual y muestreo aleatorio de datos."
      ],
      "metadata": {
        "id": "Q0llcZ2coCAt"
      }
    },
    {
      "cell_type": "code",
      "source": [
        "df = df.convert_dtypes()\n",
        "df.dtypes"
      ],
      "metadata": {
        "colab": {
          "base_uri": "https://localhost:8080/"
        },
        "id": "9eLEZwkBlGJz",
        "outputId": "a11014fb-5676-4e9e-83bb-ad61fd4c60dd"
      },
      "execution_count": 33,
      "outputs": [
        {
          "output_type": "execute_result",
          "data": {
            "text/plain": [
              "Item_Identifier               string\n",
              "Item_Weight                  Float64\n",
              "Item_Fat_Content              string\n",
              "Item_Visibility              Float64\n",
              "Item_Type                     string\n",
              "Item_MRP                     Float64\n",
              "Outlet_Identifier             string\n",
              "Outlet_Establishment_Year      Int64\n",
              "Outlet_Size                   string\n",
              "Outlet_Location_Type          string\n",
              "Outlet_Type                   string\n",
              "Item_Outlet_Sales            Float64\n",
              "dtype: object"
            ]
          },
          "metadata": {},
          "execution_count": 33
        }
      ]
    },
    {
      "cell_type": "markdown",
      "source": [
        "# 8) Para cualquier columna numérica, obtengan las estadísticas resumidas para cada uno (mínimo, máximo y media)"
      ],
      "metadata": {
        "id": "L-TszyVMocku"
      }
    },
    {
      "cell_type": "code",
      "source": [
        "df.describe()"
      ],
      "metadata": {
        "colab": {
          "base_uri": "https://localhost:8080/",
          "height": 300
        },
        "id": "OlBGRhfmogNU",
        "outputId": "65ff9e2c-08c6-4288-d874-3185be768262"
      },
      "execution_count": 34,
      "outputs": [
        {
          "output_type": "execute_result",
          "data": {
            "text/plain": [
              "       Item_Weight  Item_Visibility     Item_MRP  Outlet_Establishment_Year  \\\n",
              "count  8523.000000      8523.000000  8523.000000                8523.000000   \n",
              "mean     12.869378         0.066132   140.992782                1997.831867   \n",
              "std       4.653372         0.051598    62.275067                   8.371760   \n",
              "min       0.000000         0.000000    31.290000                1985.000000   \n",
              "25%       8.785000         0.026989    93.826500                1987.000000   \n",
              "50%      12.600000         0.053931   143.012800                1999.000000   \n",
              "75%      16.850000         0.094585   185.643700                2004.000000   \n",
              "max      21.350000         0.328391   266.888400                2009.000000   \n",
              "\n",
              "       Item_Outlet_Sales  \n",
              "count        8523.000000  \n",
              "mean         2181.288914  \n",
              "std          1706.499616  \n",
              "min            33.290000  \n",
              "25%           834.247400  \n",
              "50%          1794.331000  \n",
              "75%          3101.296400  \n",
              "max         13086.964800  "
            ],
            "text/html": [
              "\n",
              "  <div id=\"df-2876956a-d1c5-4686-a7b3-7b70b838fc0a\">\n",
              "    <div class=\"colab-df-container\">\n",
              "      <div>\n",
              "<style scoped>\n",
              "    .dataframe tbody tr th:only-of-type {\n",
              "        vertical-align: middle;\n",
              "    }\n",
              "\n",
              "    .dataframe tbody tr th {\n",
              "        vertical-align: top;\n",
              "    }\n",
              "\n",
              "    .dataframe thead th {\n",
              "        text-align: right;\n",
              "    }\n",
              "</style>\n",
              "<table border=\"1\" class=\"dataframe\">\n",
              "  <thead>\n",
              "    <tr style=\"text-align: right;\">\n",
              "      <th></th>\n",
              "      <th>Item_Weight</th>\n",
              "      <th>Item_Visibility</th>\n",
              "      <th>Item_MRP</th>\n",
              "      <th>Outlet_Establishment_Year</th>\n",
              "      <th>Item_Outlet_Sales</th>\n",
              "    </tr>\n",
              "  </thead>\n",
              "  <tbody>\n",
              "    <tr>\n",
              "      <th>count</th>\n",
              "      <td>8523.000000</td>\n",
              "      <td>8523.000000</td>\n",
              "      <td>8523.000000</td>\n",
              "      <td>8523.000000</td>\n",
              "      <td>8523.000000</td>\n",
              "    </tr>\n",
              "    <tr>\n",
              "      <th>mean</th>\n",
              "      <td>12.869378</td>\n",
              "      <td>0.066132</td>\n",
              "      <td>140.992782</td>\n",
              "      <td>1997.831867</td>\n",
              "      <td>2181.288914</td>\n",
              "    </tr>\n",
              "    <tr>\n",
              "      <th>std</th>\n",
              "      <td>4.653372</td>\n",
              "      <td>0.051598</td>\n",
              "      <td>62.275067</td>\n",
              "      <td>8.371760</td>\n",
              "      <td>1706.499616</td>\n",
              "    </tr>\n",
              "    <tr>\n",
              "      <th>min</th>\n",
              "      <td>0.000000</td>\n",
              "      <td>0.000000</td>\n",
              "      <td>31.290000</td>\n",
              "      <td>1985.000000</td>\n",
              "      <td>33.290000</td>\n",
              "    </tr>\n",
              "    <tr>\n",
              "      <th>25%</th>\n",
              "      <td>8.785000</td>\n",
              "      <td>0.026989</td>\n",
              "      <td>93.826500</td>\n",
              "      <td>1987.000000</td>\n",
              "      <td>834.247400</td>\n",
              "    </tr>\n",
              "    <tr>\n",
              "      <th>50%</th>\n",
              "      <td>12.600000</td>\n",
              "      <td>0.053931</td>\n",
              "      <td>143.012800</td>\n",
              "      <td>1999.000000</td>\n",
              "      <td>1794.331000</td>\n",
              "    </tr>\n",
              "    <tr>\n",
              "      <th>75%</th>\n",
              "      <td>16.850000</td>\n",
              "      <td>0.094585</td>\n",
              "      <td>185.643700</td>\n",
              "      <td>2004.000000</td>\n",
              "      <td>3101.296400</td>\n",
              "    </tr>\n",
              "    <tr>\n",
              "      <th>max</th>\n",
              "      <td>21.350000</td>\n",
              "      <td>0.328391</td>\n",
              "      <td>266.888400</td>\n",
              "      <td>2009.000000</td>\n",
              "      <td>13086.964800</td>\n",
              "    </tr>\n",
              "  </tbody>\n",
              "</table>\n",
              "</div>\n",
              "      <button class=\"colab-df-convert\" onclick=\"convertToInteractive('df-2876956a-d1c5-4686-a7b3-7b70b838fc0a')\"\n",
              "              title=\"Convert this dataframe to an interactive table.\"\n",
              "              style=\"display:none;\">\n",
              "        \n",
              "  <svg xmlns=\"http://www.w3.org/2000/svg\" height=\"24px\"viewBox=\"0 0 24 24\"\n",
              "       width=\"24px\">\n",
              "    <path d=\"M0 0h24v24H0V0z\" fill=\"none\"/>\n",
              "    <path d=\"M18.56 5.44l.94 2.06.94-2.06 2.06-.94-2.06-.94-.94-2.06-.94 2.06-2.06.94zm-11 1L8.5 8.5l.94-2.06 2.06-.94-2.06-.94L8.5 2.5l-.94 2.06-2.06.94zm10 10l.94 2.06.94-2.06 2.06-.94-2.06-.94-.94-2.06-.94 2.06-2.06.94z\"/><path d=\"M17.41 7.96l-1.37-1.37c-.4-.4-.92-.59-1.43-.59-.52 0-1.04.2-1.43.59L10.3 9.45l-7.72 7.72c-.78.78-.78 2.05 0 2.83L4 21.41c.39.39.9.59 1.41.59.51 0 1.02-.2 1.41-.59l7.78-7.78 2.81-2.81c.8-.78.8-2.07 0-2.86zM5.41 20L4 18.59l7.72-7.72 1.47 1.35L5.41 20z\"/>\n",
              "  </svg>\n",
              "      </button>\n",
              "      \n",
              "  <style>\n",
              "    .colab-df-container {\n",
              "      display:flex;\n",
              "      flex-wrap:wrap;\n",
              "      gap: 12px;\n",
              "    }\n",
              "\n",
              "    .colab-df-convert {\n",
              "      background-color: #E8F0FE;\n",
              "      border: none;\n",
              "      border-radius: 50%;\n",
              "      cursor: pointer;\n",
              "      display: none;\n",
              "      fill: #1967D2;\n",
              "      height: 32px;\n",
              "      padding: 0 0 0 0;\n",
              "      width: 32px;\n",
              "    }\n",
              "\n",
              "    .colab-df-convert:hover {\n",
              "      background-color: #E2EBFA;\n",
              "      box-shadow: 0px 1px 2px rgba(60, 64, 67, 0.3), 0px 1px 3px 1px rgba(60, 64, 67, 0.15);\n",
              "      fill: #174EA6;\n",
              "    }\n",
              "\n",
              "    [theme=dark] .colab-df-convert {\n",
              "      background-color: #3B4455;\n",
              "      fill: #D2E3FC;\n",
              "    }\n",
              "\n",
              "    [theme=dark] .colab-df-convert:hover {\n",
              "      background-color: #434B5C;\n",
              "      box-shadow: 0px 1px 3px 1px rgba(0, 0, 0, 0.15);\n",
              "      filter: drop-shadow(0px 1px 2px rgba(0, 0, 0, 0.3));\n",
              "      fill: #FFFFFF;\n",
              "    }\n",
              "  </style>\n",
              "\n",
              "      <script>\n",
              "        const buttonEl =\n",
              "          document.querySelector('#df-2876956a-d1c5-4686-a7b3-7b70b838fc0a button.colab-df-convert');\n",
              "        buttonEl.style.display =\n",
              "          google.colab.kernel.accessAllowed ? 'block' : 'none';\n",
              "\n",
              "        async function convertToInteractive(key) {\n",
              "          const element = document.querySelector('#df-2876956a-d1c5-4686-a7b3-7b70b838fc0a');\n",
              "          const dataTable =\n",
              "            await google.colab.kernel.invokeFunction('convertToInteractive',\n",
              "                                                     [key], {});\n",
              "          if (!dataTable) return;\n",
              "\n",
              "          const docLinkHtml = 'Like what you see? Visit the ' +\n",
              "            '<a target=\"_blank\" href=https://colab.research.google.com/notebooks/data_table.ipynb>data table notebook</a>'\n",
              "            + ' to learn more about interactive tables.';\n",
              "          element.innerHTML = '';\n",
              "          dataTable['output_type'] = 'display_data';\n",
              "          await google.colab.output.renderOutput(dataTable, element);\n",
              "          const docLink = document.createElement('div');\n",
              "          docLink.innerHTML = docLinkHtml;\n",
              "          element.appendChild(docLink);\n",
              "        }\n",
              "      </script>\n",
              "    </div>\n",
              "  </div>\n",
              "  "
            ]
          },
          "metadata": {},
          "execution_count": 34
        }
      ]
    },
    {
      "cell_type": "markdown",
      "source": [],
      "metadata": {
        "id": "bkn9R6G1vPfA"
      }
    },
    {
      "cell_type": "code",
      "source": [
        "df.head()"
      ],
      "metadata": {
        "colab": {
          "base_uri": "https://localhost:8080/",
          "height": 357
        },
        "id": "srqZQjLX5KCs",
        "outputId": "ff0dad99-9ba8-4835-e82f-166826dc5e3d"
      },
      "execution_count": 35,
      "outputs": [
        {
          "output_type": "execute_result",
          "data": {
            "text/plain": [
              "  Item_Identifier  Item_Weight Item_Fat_Content  Item_Visibility  \\\n",
              "0           FDA15          9.3          Low Fat         0.016047   \n",
              "1           DRC01         5.92          Regular         0.019278   \n",
              "2           FDN15         17.5          Low Fat          0.01676   \n",
              "3           FDX07         19.2          Regular              0.0   \n",
              "4           NCD19         8.93          Low Fat              0.0   \n",
              "\n",
              "               Item_Type  Item_MRP Outlet_Identifier  \\\n",
              "0                  Dairy  249.8092            OUT049   \n",
              "1            Soft Drinks   48.2692            OUT018   \n",
              "2                   Meat   141.618            OUT049   \n",
              "3  Fruits and Vegetables   182.095            OUT010   \n",
              "4              Household   53.8614            OUT013   \n",
              "\n",
              "   Outlet_Establishment_Year Outlet_Size Outlet_Location_Type  \\\n",
              "0                       1999      Medium               Tier 1   \n",
              "1                       2009      Medium               Tier 3   \n",
              "2                       1999      Medium               Tier 1   \n",
              "3                       1998       Small               Tier 3   \n",
              "4                       1987        High               Tier 3   \n",
              "\n",
              "         Outlet_Type  Item_Outlet_Sales  \n",
              "0  Supermarket Type1           3735.138  \n",
              "1  Supermarket Type2           443.4228  \n",
              "2  Supermarket Type1            2097.27  \n",
              "3      Grocery Store             732.38  \n",
              "4  Supermarket Type1           994.7052  "
            ],
            "text/html": [
              "\n",
              "  <div id=\"df-ec679800-8620-4f31-87a9-90b7867701f0\">\n",
              "    <div class=\"colab-df-container\">\n",
              "      <div>\n",
              "<style scoped>\n",
              "    .dataframe tbody tr th:only-of-type {\n",
              "        vertical-align: middle;\n",
              "    }\n",
              "\n",
              "    .dataframe tbody tr th {\n",
              "        vertical-align: top;\n",
              "    }\n",
              "\n",
              "    .dataframe thead th {\n",
              "        text-align: right;\n",
              "    }\n",
              "</style>\n",
              "<table border=\"1\" class=\"dataframe\">\n",
              "  <thead>\n",
              "    <tr style=\"text-align: right;\">\n",
              "      <th></th>\n",
              "      <th>Item_Identifier</th>\n",
              "      <th>Item_Weight</th>\n",
              "      <th>Item_Fat_Content</th>\n",
              "      <th>Item_Visibility</th>\n",
              "      <th>Item_Type</th>\n",
              "      <th>Item_MRP</th>\n",
              "      <th>Outlet_Identifier</th>\n",
              "      <th>Outlet_Establishment_Year</th>\n",
              "      <th>Outlet_Size</th>\n",
              "      <th>Outlet_Location_Type</th>\n",
              "      <th>Outlet_Type</th>\n",
              "      <th>Item_Outlet_Sales</th>\n",
              "    </tr>\n",
              "  </thead>\n",
              "  <tbody>\n",
              "    <tr>\n",
              "      <th>0</th>\n",
              "      <td>FDA15</td>\n",
              "      <td>9.3</td>\n",
              "      <td>Low Fat</td>\n",
              "      <td>0.016047</td>\n",
              "      <td>Dairy</td>\n",
              "      <td>249.8092</td>\n",
              "      <td>OUT049</td>\n",
              "      <td>1999</td>\n",
              "      <td>Medium</td>\n",
              "      <td>Tier 1</td>\n",
              "      <td>Supermarket Type1</td>\n",
              "      <td>3735.138</td>\n",
              "    </tr>\n",
              "    <tr>\n",
              "      <th>1</th>\n",
              "      <td>DRC01</td>\n",
              "      <td>5.92</td>\n",
              "      <td>Regular</td>\n",
              "      <td>0.019278</td>\n",
              "      <td>Soft Drinks</td>\n",
              "      <td>48.2692</td>\n",
              "      <td>OUT018</td>\n",
              "      <td>2009</td>\n",
              "      <td>Medium</td>\n",
              "      <td>Tier 3</td>\n",
              "      <td>Supermarket Type2</td>\n",
              "      <td>443.4228</td>\n",
              "    </tr>\n",
              "    <tr>\n",
              "      <th>2</th>\n",
              "      <td>FDN15</td>\n",
              "      <td>17.5</td>\n",
              "      <td>Low Fat</td>\n",
              "      <td>0.01676</td>\n",
              "      <td>Meat</td>\n",
              "      <td>141.618</td>\n",
              "      <td>OUT049</td>\n",
              "      <td>1999</td>\n",
              "      <td>Medium</td>\n",
              "      <td>Tier 1</td>\n",
              "      <td>Supermarket Type1</td>\n",
              "      <td>2097.27</td>\n",
              "    </tr>\n",
              "    <tr>\n",
              "      <th>3</th>\n",
              "      <td>FDX07</td>\n",
              "      <td>19.2</td>\n",
              "      <td>Regular</td>\n",
              "      <td>0.0</td>\n",
              "      <td>Fruits and Vegetables</td>\n",
              "      <td>182.095</td>\n",
              "      <td>OUT010</td>\n",
              "      <td>1998</td>\n",
              "      <td>Small</td>\n",
              "      <td>Tier 3</td>\n",
              "      <td>Grocery Store</td>\n",
              "      <td>732.38</td>\n",
              "    </tr>\n",
              "    <tr>\n",
              "      <th>4</th>\n",
              "      <td>NCD19</td>\n",
              "      <td>8.93</td>\n",
              "      <td>Low Fat</td>\n",
              "      <td>0.0</td>\n",
              "      <td>Household</td>\n",
              "      <td>53.8614</td>\n",
              "      <td>OUT013</td>\n",
              "      <td>1987</td>\n",
              "      <td>High</td>\n",
              "      <td>Tier 3</td>\n",
              "      <td>Supermarket Type1</td>\n",
              "      <td>994.7052</td>\n",
              "    </tr>\n",
              "  </tbody>\n",
              "</table>\n",
              "</div>\n",
              "      <button class=\"colab-df-convert\" onclick=\"convertToInteractive('df-ec679800-8620-4f31-87a9-90b7867701f0')\"\n",
              "              title=\"Convert this dataframe to an interactive table.\"\n",
              "              style=\"display:none;\">\n",
              "        \n",
              "  <svg xmlns=\"http://www.w3.org/2000/svg\" height=\"24px\"viewBox=\"0 0 24 24\"\n",
              "       width=\"24px\">\n",
              "    <path d=\"M0 0h24v24H0V0z\" fill=\"none\"/>\n",
              "    <path d=\"M18.56 5.44l.94 2.06.94-2.06 2.06-.94-2.06-.94-.94-2.06-.94 2.06-2.06.94zm-11 1L8.5 8.5l.94-2.06 2.06-.94-2.06-.94L8.5 2.5l-.94 2.06-2.06.94zm10 10l.94 2.06.94-2.06 2.06-.94-2.06-.94-.94-2.06-.94 2.06-2.06.94z\"/><path d=\"M17.41 7.96l-1.37-1.37c-.4-.4-.92-.59-1.43-.59-.52 0-1.04.2-1.43.59L10.3 9.45l-7.72 7.72c-.78.78-.78 2.05 0 2.83L4 21.41c.39.39.9.59 1.41.59.51 0 1.02-.2 1.41-.59l7.78-7.78 2.81-2.81c.8-.78.8-2.07 0-2.86zM5.41 20L4 18.59l7.72-7.72 1.47 1.35L5.41 20z\"/>\n",
              "  </svg>\n",
              "      </button>\n",
              "      \n",
              "  <style>\n",
              "    .colab-df-container {\n",
              "      display:flex;\n",
              "      flex-wrap:wrap;\n",
              "      gap: 12px;\n",
              "    }\n",
              "\n",
              "    .colab-df-convert {\n",
              "      background-color: #E8F0FE;\n",
              "      border: none;\n",
              "      border-radius: 50%;\n",
              "      cursor: pointer;\n",
              "      display: none;\n",
              "      fill: #1967D2;\n",
              "      height: 32px;\n",
              "      padding: 0 0 0 0;\n",
              "      width: 32px;\n",
              "    }\n",
              "\n",
              "    .colab-df-convert:hover {\n",
              "      background-color: #E2EBFA;\n",
              "      box-shadow: 0px 1px 2px rgba(60, 64, 67, 0.3), 0px 1px 3px 1px rgba(60, 64, 67, 0.15);\n",
              "      fill: #174EA6;\n",
              "    }\n",
              "\n",
              "    [theme=dark] .colab-df-convert {\n",
              "      background-color: #3B4455;\n",
              "      fill: #D2E3FC;\n",
              "    }\n",
              "\n",
              "    [theme=dark] .colab-df-convert:hover {\n",
              "      background-color: #434B5C;\n",
              "      box-shadow: 0px 1px 3px 1px rgba(0, 0, 0, 0.15);\n",
              "      filter: drop-shadow(0px 1px 2px rgba(0, 0, 0, 0.3));\n",
              "      fill: #FFFFFF;\n",
              "    }\n",
              "  </style>\n",
              "\n",
              "      <script>\n",
              "        const buttonEl =\n",
              "          document.querySelector('#df-ec679800-8620-4f31-87a9-90b7867701f0 button.colab-df-convert');\n",
              "        buttonEl.style.display =\n",
              "          google.colab.kernel.accessAllowed ? 'block' : 'none';\n",
              "\n",
              "        async function convertToInteractive(key) {\n",
              "          const element = document.querySelector('#df-ec679800-8620-4f31-87a9-90b7867701f0');\n",
              "          const dataTable =\n",
              "            await google.colab.kernel.invokeFunction('convertToInteractive',\n",
              "                                                     [key], {});\n",
              "          if (!dataTable) return;\n",
              "\n",
              "          const docLinkHtml = 'Like what you see? Visit the ' +\n",
              "            '<a target=\"_blank\" href=https://colab.research.google.com/notebooks/data_table.ipynb>data table notebook</a>'\n",
              "            + ' to learn more about interactive tables.';\n",
              "          element.innerHTML = '';\n",
              "          dataTable['output_type'] = 'display_data';\n",
              "          await google.colab.output.renderOutput(dataTable, element);\n",
              "          const docLink = document.createElement('div');\n",
              "          docLink.innerHTML = docLinkHtml;\n",
              "          element.appendChild(docLink);\n",
              "        }\n",
              "      </script>\n",
              "    </div>\n",
              "  </div>\n",
              "  "
            ]
          },
          "metadata": {},
          "execution_count": 35
        }
      ]
    },
    {
      "cell_type": "markdown",
      "source": [
        "# Ver el comportamiento de los productos en general utilizando el precio Item_MRP"
      ],
      "metadata": {
        "id": "d9d9YIsf9QsC"
      }
    },
    {
      "cell_type": "code",
      "source": [
        "plt.style.use('seaborn')\n",
        "serie_MRP=df['Item_MRP']\n",
        "plt.hist(serie_MRP, bins= 20,\n",
        "         edgecolor='black', facecolor ='aqua', alpha=0.5, label=\"Item MRP\")\n",
        "plt.legend()\n",
        "plt.show()"
      ],
      "metadata": {
        "colab": {
          "base_uri": "https://localhost:8080/",
          "height": 347
        },
        "id": "n1kxj2ss9QDJ",
        "outputId": "1b27fe56-50bf-4e20-bda2-462c5c175594"
      },
      "execution_count": 36,
      "outputs": [
        {
          "output_type": "display_data",
          "data": {
            "text/plain": [
              "<Figure size 576x396 with 1 Axes>"
            ],
            "image/png": "[encoded data removed]"
          },
          "metadata": {}
        }
      ]
    },
    {
      "cell_type": "markdown",
      "source": [
        "# Verificar los productos vendidos por El tamano de la tienda y los precios"
      ],
      "metadata": {
        "id": "ciAawSFYR79f"
      }
    },
    {
      "cell_type": "code",
      "source": [
        "serie_size_Small = df['Outlet_Size']==\"Small\"\n",
        "serie_size_medium = df['Outlet_Size']==\"Medium\"\n",
        "serie_size_High= df['Outlet_Size']==\"High\"\n",
        "df[serie_size_medium]"
      ],
      "metadata": {
        "colab": {
          "base_uri": "https://localhost:8080/",
          "height": 661
        },
        "id": "mP9nHA_QSBZt",
        "outputId": "fb338473-1861-45d2-9ac9-d6c402c0aba5"
      },
      "execution_count": 37,
      "outputs": [
        {
          "output_type": "execute_result",
          "data": {
            "text/plain": [
              "     Item_Identifier  Item_Weight Item_Fat_Content  Item_Visibility  \\\n",
              "0              FDA15          9.3          Low Fat         0.016047   \n",
              "1              DRC01         5.92          Regular         0.019278   \n",
              "2              FDN15         17.5          Low Fat          0.01676   \n",
              "5              FDP36       10.395          Regular              0.0   \n",
              "7              FDP10         19.0          Low Fat          0.12747   \n",
              "...              ...          ...              ...              ...   \n",
              "8506           DRF37        17.25          Low Fat         0.084676   \n",
              "8511           FDF05         17.5          Low Fat          0.02698   \n",
              "8515           FDH24         20.7          Low Fat         0.021518   \n",
              "8516           NCJ19         18.6          Low Fat         0.118661   \n",
              "8521           FDN46         7.21          Regular         0.145221   \n",
              "\n",
              "         Item_Type  Item_MRP Outlet_Identifier  Outlet_Establishment_Year  \\\n",
              "0            Dairy  249.8092            OUT049                       1999   \n",
              "1      Soft Drinks   48.2692            OUT018                       2009   \n",
              "2             Meat   141.618            OUT049                       1999   \n",
              "5     Baking Goods   51.4008            OUT018                       2009   \n",
              "7      Snack Foods  107.7622            OUT027                       1985   \n",
              "...            ...       ...               ...                        ...   \n",
              "8506   Soft Drinks   263.191            OUT018                       2009   \n",
              "8511  Frozen Foods   262.591            OUT018                       2009   \n",
              "8515  Baking Goods  157.5288            OUT018                       2009   \n",
              "8516        Others   58.7588            OUT018                       2009   \n",
              "8521   Snack Foods  103.1332            OUT018                       2009   \n",
              "\n",
              "     Outlet_Size Outlet_Location_Type        Outlet_Type  Item_Outlet_Sales  \n",
              "0         Medium               Tier 1  Supermarket Type1           3735.138  \n",
              "1         Medium               Tier 3  Supermarket Type2           443.4228  \n",
              "2         Medium               Tier 1  Supermarket Type1            2097.27  \n",
              "5         Medium               Tier 3  Supermarket Type2           556.6088  \n",
              "7         Medium               Tier 3  Supermarket Type3          4022.7636  \n",
              "...          ...                  ...                ...                ...  \n",
              "8506      Medium               Tier 3  Supermarket Type2           3944.865  \n",
              "8511      Medium               Tier 3  Supermarket Type2           4207.856  \n",
              "8515      Medium               Tier 3  Supermarket Type2           1571.288  \n",
              "8516      Medium               Tier 3  Supermarket Type2            858.882  \n",
              "8521      Medium               Tier 3  Supermarket Type2          1845.5976  \n",
              "\n",
              "[2793 rows x 12 columns]"
            ],
            "text/html": [
              "\n",
              "  <div id=\"df-4a818c35-a1e7-416f-ad06-e26bed5c11c3\">\n",
              "    <div class=\"colab-df-container\">\n",
              "      <div>\n",
              "<style scoped>\n",
              "    .dataframe tbody tr th:only-of-type {\n",
              "        vertical-align: middle;\n",
              "    }\n",
              "\n",
              "    .dataframe tbody tr th {\n",
              "        vertical-align: top;\n",
              "    }\n",
              "\n",
              "    .dataframe thead th {\n",
              "        text-align: right;\n",
              "    }\n",
              "</style>\n",
              "<table border=\"1\" class=\"dataframe\">\n",
              "  <thead>\n",
              "    <tr style=\"text-align: right;\">\n",
              "      <th></th>\n",
              "      <th>Item_Identifier</th>\n",
              "      <th>Item_Weight</th>\n",
              "      <th>Item_Fat_Content</th>\n",
              "      <th>Item_Visibility</th>\n",
              "      <th>Item_Type</th>\n",
              "      <th>Item_MRP</th>\n",
              "      <th>Outlet_Identifier</th>\n",
              "      <th>Outlet_Establishment_Year</th>\n",
              "      <th>Outlet_Size</th>\n",
              "      <th>Outlet_Location_Type</th>\n",
              "      <th>Outlet_Type</th>\n",
              "      <th>Item_Outlet_Sales</th>\n",
              "    </tr>\n",
              "  </thead>\n",
              "  <tbody>\n",
              "    <tr>\n",
              "      <th>0</th>\n",
              "      <td>FDA15</td>\n",
              "      <td>9.3</td>\n",
              "      <td>Low Fat</td>\n",
              "      <td>0.016047</td>\n",
              "      <td>Dairy</td>\n",
              "      <td>249.8092</td>\n",
              "      <td>OUT049</td>\n",
              "      <td>1999</td>\n",
              "      <td>Medium</td>\n",
              "      <td>Tier 1</td>\n",
              "      <td>Supermarket Type1</td>\n",
              "      <td>3735.138</td>\n",
              "    </tr>\n",
              "    <tr>\n",
              "      <th>1</th>\n",
              "      <td>DRC01</td>\n",
              "      <td>5.92</td>\n",
              "      <td>Regular</td>\n",
              "      <td>0.019278</td>\n",
              "      <td>Soft Drinks</td>\n",
              "      <td>48.2692</td>\n",
              "      <td>OUT018</td>\n",
              "      <td>2009</td>\n",
              "      <td>Medium</td>\n",
              "      <td>Tier 3</td>\n",
              "      <td>Supermarket Type2</td>\n",
              "      <td>443.4228</td>\n",
              "    </tr>\n",
              "    <tr>\n",
              "      <th>2</th>\n",
              "      <td>FDN15</td>\n",
              "      <td>17.5</td>\n",
              "      <td>Low Fat</td>\n",
              "      <td>0.01676</td>\n",
              "      <td>Meat</td>\n",
              "      <td>141.618</td>\n",
              "      <td>OUT049</td>\n",
              "      <td>1999</td>\n",
              "      <td>Medium</td>\n",
              "      <td>Tier 1</td>\n",
              "      <td>Supermarket Type1</td>\n",
              "      <td>2097.27</td>\n",
              "    </tr>\n",
              "    <tr>\n",
              "      <th>5</th>\n",
              "      <td>FDP36</td>\n",
              "      <td>10.395</td>\n",
              "      <td>Regular</td>\n",
              "      <td>0.0</td>\n",
              "      <td>Baking Goods</td>\n",
              "      <td>51.4008</td>\n",
              "      <td>OUT018</td>\n",
              "      <td>2009</td>\n",
              "      <td>Medium</td>\n",
              "      <td>Tier 3</td>\n",
              "      <td>Supermarket Type2</td>\n",
              "      <td>556.6088</td>\n",
              "    </tr>\n",
              "    <tr>\n",
              "      <th>7</th>\n",
              "      <td>FDP10</td>\n",
              "      <td>19.0</td>\n",
              "      <td>Low Fat</td>\n",
              "      <td>0.12747</td>\n",
              "      <td>Snack Foods</td>\n",
              "      <td>107.7622</td>\n",
              "      <td>OUT027</td>\n",
              "      <td>1985</td>\n",
              "      <td>Medium</td>\n",
              "      <td>Tier 3</td>\n",
              "      <td>Supermarket Type3</td>\n",
              "      <td>4022.7636</td>\n",
              "    </tr>\n",
              "    <tr>\n",
              "      <th>...</th>\n",
              "      <td>...</td>\n",
              "      <td>...</td>\n",
              "      <td>...</td>\n",
              "      <td>...</td>\n",
              "      <td>...</td>\n",
              "      <td>...</td>\n",
              "      <td>...</td>\n",
              "      <td>...</td>\n",
              "      <td>...</td>\n",
              "      <td>...</td>\n",
              "      <td>...</td>\n",
              "      <td>...</td>\n",
              "    </tr>\n",
              "    <tr>\n",
              "      <th>8506</th>\n",
              "      <td>DRF37</td>\n",
              "      <td>17.25</td>\n",
              "      <td>Low Fat</td>\n",
              "      <td>0.084676</td>\n",
              "      <td>Soft Drinks</td>\n",
              "      <td>263.191</td>\n",
              "      <td>OUT018</td>\n",
              "      <td>2009</td>\n",
              "      <td>Medium</td>\n",
              "      <td>Tier 3</td>\n",
              "      <td>Supermarket Type2</td>\n",
              "      <td>3944.865</td>\n",
              "    </tr>\n",
              "    <tr>\n",
              "      <th>8511</th>\n",
              "      <td>FDF05</td>\n",
              "      <td>17.5</td>\n",
              "      <td>Low Fat</td>\n",
              "      <td>0.02698</td>\n",
              "      <td>Frozen Foods</td>\n",
              "      <td>262.591</td>\n",
              "      <td>OUT018</td>\n",
              "      <td>2009</td>\n",
              "      <td>Medium</td>\n",
              "      <td>Tier 3</td>\n",
              "      <td>Supermarket Type2</td>\n",
              "      <td>4207.856</td>\n",
              "    </tr>\n",
              "    <tr>\n",
              "      <th>8515</th>\n",
              "      <td>FDH24</td>\n",
              "      <td>20.7</td>\n",
              "      <td>Low Fat</td>\n",
              "      <td>0.021518</td>\n",
              "      <td>Baking Goods</td>\n",
              "      <td>157.5288</td>\n",
              "      <td>OUT018</td>\n",
              "      <td>2009</td>\n",
              "      <td>Medium</td>\n",
              "      <td>Tier 3</td>\n",
              "      <td>Supermarket Type2</td>\n",
              "      <td>1571.288</td>\n",
              "    </tr>\n",
              "    <tr>\n",
              "      <th>8516</th>\n",
              "      <td>NCJ19</td>\n",
              "      <td>18.6</td>\n",
              "      <td>Low Fat</td>\n",
              "      <td>0.118661</td>\n",
              "      <td>Others</td>\n",
              "      <td>58.7588</td>\n",
              "      <td>OUT018</td>\n",
              "      <td>2009</td>\n",
              "      <td>Medium</td>\n",
              "      <td>Tier 3</td>\n",
              "      <td>Supermarket Type2</td>\n",
              "      <td>858.882</td>\n",
              "    </tr>\n",
              "    <tr>\n",
              "      <th>8521</th>\n",
              "      <td>FDN46</td>\n",
              "      <td>7.21</td>\n",
              "      <td>Regular</td>\n",
              "      <td>0.145221</td>\n",
              "      <td>Snack Foods</td>\n",
              "      <td>103.1332</td>\n",
              "      <td>OUT018</td>\n",
              "      <td>2009</td>\n",
              "      <td>Medium</td>\n",
              "      <td>Tier 3</td>\n",
              "      <td>Supermarket Type2</td>\n",
              "      <td>1845.5976</td>\n",
              "    </tr>\n",
              "  </tbody>\n",
              "</table>\n",
              "<p>2793 rows × 12 columns</p>\n",
              "</div>\n",
              "      <button class=\"colab-df-convert\" onclick=\"convertToInteractive('df-4a818c35-a1e7-416f-ad06-e26bed5c11c3')\"\n",
              "              title=\"Convert this dataframe to an interactive table.\"\n",
              "              style=\"display:none;\">\n",
              "        \n",
              "  <svg xmlns=\"http://www.w3.org/2000/svg\" height=\"24px\"viewBox=\"0 0 24 24\"\n",
              "       width=\"24px\">\n",
              "    <path d=\"M0 0h24v24H0V0z\" fill=\"none\"/>\n",
              "    <path d=\"M18.56 5.44l.94 2.06.94-2.06 2.06-.94-2.06-.94-.94-2.06-.94 2.06-2.06.94zm-11 1L8.5 8.5l.94-2.06 2.06-.94-2.06-.94L8.5 2.5l-.94 2.06-2.06.94zm10 10l.94 2.06.94-2.06 2.06-.94-2.06-.94-.94-2.06-.94 2.06-2.06.94z\"/><path d=\"M17.41 7.96l-1.37-1.37c-.4-.4-.92-.59-1.43-.59-.52 0-1.04.2-1.43.59L10.3 9.45l-7.72 7.72c-.78.78-.78 2.05 0 2.83L4 21.41c.39.39.9.59 1.41.59.51 0 1.02-.2 1.41-.59l7.78-7.78 2.81-2.81c.8-.78.8-2.07 0-2.86zM5.41 20L4 18.59l7.72-7.72 1.47 1.35L5.41 20z\"/>\n",
              "  </svg>\n",
              "      </button>\n",
              "      \n",
              "  <style>\n",
              "    .colab-df-container {\n",
              "      display:flex;\n",
              "      flex-wrap:wrap;\n",
              "      gap: 12px;\n",
              "    }\n",
              "\n",
              "    .colab-df-convert {\n",
              "      background-color: #E8F0FE;\n",
              "      border: none;\n",
              "      border-radius: 50%;\n",
              "      cursor: pointer;\n",
              "      display: none;\n",
              "      fill: #1967D2;\n",
              "      height: 32px;\n",
              "      padding: 0 0 0 0;\n",
              "      width: 32px;\n",
              "    }\n",
              "\n",
              "    .colab-df-convert:hover {\n",
              "      background-color: #E2EBFA;\n",
              "      box-shadow: 0px 1px 2px rgba(60, 64, 67, 0.3), 0px 1px 3px 1px rgba(60, 64, 67, 0.15);\n",
              "      fill: #174EA6;\n",
              "    }\n",
              "\n",
              "    [theme=dark] .colab-df-convert {\n",
              "      background-color: #3B4455;\n",
              "      fill: #D2E3FC;\n",
              "    }\n",
              "\n",
              "    [theme=dark] .colab-df-convert:hover {\n",
              "      background-color: #434B5C;\n",
              "      box-shadow: 0px 1px 3px 1px rgba(0, 0, 0, 0.15);\n",
              "      filter: drop-shadow(0px 1px 2px rgba(0, 0, 0, 0.3));\n",
              "      fill: #FFFFFF;\n",
              "    }\n",
              "  </style>\n",
              "\n",
              "      <script>\n",
              "        const buttonEl =\n",
              "          document.querySelector('#df-4a818c35-a1e7-416f-ad06-e26bed5c11c3 button.colab-df-convert');\n",
              "        buttonEl.style.display =\n",
              "          google.colab.kernel.accessAllowed ? 'block' : 'none';\n",
              "\n",
              "        async function convertToInteractive(key) {\n",
              "          const element = document.querySelector('#df-4a818c35-a1e7-416f-ad06-e26bed5c11c3');\n",
              "          const dataTable =\n",
              "            await google.colab.kernel.invokeFunction('convertToInteractive',\n",
              "                                                     [key], {});\n",
              "          if (!dataTable) return;\n",
              "\n",
              "          const docLinkHtml = 'Like what you see? Visit the ' +\n",
              "            '<a target=\"_blank\" href=https://colab.research.google.com/notebooks/data_table.ipynb>data table notebook</a>'\n",
              "            + ' to learn more about interactive tables.';\n",
              "          element.innerHTML = '';\n",
              "          dataTable['output_type'] = 'display_data';\n",
              "          await google.colab.output.renderOutput(dataTable, element);\n",
              "          const docLink = document.createElement('div');\n",
              "          docLink.innerHTML = docLinkHtml;\n",
              "          element.appendChild(docLink);\n",
              "        }\n",
              "      </script>\n",
              "    </div>\n",
              "  </div>\n",
              "  "
            ]
          },
          "metadata": {},
          "execution_count": 37
        }
      ]
    },
    {
      "cell_type": "code",
      "source": [
        "small = df.loc[serie_size_Small, 'Item_MRP']\n",
        "plt.hist(small,bins= 20,\n",
        "         edgecolor='black', facecolor ='aqua', alpha=0.5, label=\"Small\")\n",
        "medium = df.loc[serie_size_medium,'Item_MRP']\n",
        "plt.hist(medium,bins= 20,\n",
        "         edgecolor='black', facecolor ='Teal', alpha=0.5, label=\"Medium\")\n",
        "High = df.loc[serie_size_High, 'Item_MRP']\n",
        "plt.hist(High,bins= 20,\n",
        "         edgecolor='black', facecolor ='green', alpha=0.5, label=\"High\")\n",
        "plt.legend()\n",
        "plt.show()"
      ],
      "metadata": {
        "colab": {
          "base_uri": "https://localhost:8080/",
          "height": 347
        },
        "id": "dlCwgHxRYkna",
        "outputId": "cd0cdc08-ce5b-4c72-f4da-c0030398d67a"
      },
      "execution_count": 38,
      "outputs": [
        {
          "output_type": "display_data",
          "data": {
            "text/plain": [
              "<Figure size 576x396 with 1 Axes>"
            ],
            "image/png": "[encoded data removed]"
          },
          "metadata": {}
        }
      ]
    },
    {
      "cell_type": "markdown",
      "source": [
        "La mayor cantidad de productos vendidos se situa en los precios de 100-200 para todos los comercios"
      ],
      "metadata": {
        "id": "CPEyWVQInZyd"
      }
    },
    {
      "cell_type": "code",
      "source": [],
      "metadata": {
        "id": "Oz3Y_7HNnhY8"
      },
      "execution_count": 38,
      "outputs": []
    },
    {
      "cell_type": "markdown",
      "source": [
        "# Analisis box plot de los precios de productos por tamano del comercio"
      ],
      "metadata": {
        "id": "CPz-66EEhRN3"
      }
    },
    {
      "cell_type": "code",
      "source": [
        "Small_size = df.loc[df['Outlet_Size']=='Small','Item_MRP'].values\n",
        "Medium_size = df.loc[df['Outlet_Size']=='Medium','Item_MRP'].values\n",
        "High_size = df.loc[df['Outlet_Size']=='High','Item_MRP'].values\n",
        "fig, axes = plt.subplots(nrows = 1, ncols = 1, figsize = (8,5));\n",
        "boxplots = axes.boxplot([Small_size,Medium_size, High_size],\n",
        "           notch = True,\n",
        "           labels=['S', 'M', 'H'],\n",
        "           widths = .7,\n",
        "           patch_artist=True,\n",
        "           medianprops = dict(linestyle='-', linewidth=2, color='Yellow'),\n",
        "           boxprops = dict(linestyle='--', linewidth=2, color='Black', facecolor = 'blue', alpha = .4)\n",
        "          );\n",
        "boxplot1 = boxplots['boxes'][0];\n",
        "boxplot1.set_facecolor('red');\n",
        "boxplot2 = boxplots['boxes'][1]\n",
        "boxplot2.set_facecolor('green');\n",
        "plt.xlabel('Tamano del comercio', fontsize = 20);\n",
        "plt.ylabel('Media del precio', fontsize = 20);\n",
        "plt.xticks(fontsize = 16);\n",
        "plt.yticks(fontsize = 16);\n",
        "plt.show();\n",
        "\n"
      ],
      "metadata": {
        "colab": {
          "base_uri": "https://localhost:8080/",
          "height": 403
        },
        "id": "LzeIaeQShYs-",
        "outputId": "cbdcdcb8-b5f2-4186-c40d-5e4109c3ea4a"
      },
      "execution_count": 39,
      "outputs": [
        {
          "output_type": "stream",
          "name": "stderr",
          "text": [
            "/usr/local/lib/python3.8/dist-packages/matplotlib/cbook/__init__.py:1376: VisibleDeprecationWarning: Creating an ndarray from ragged nested sequences (which is a list-or-tuple of lists-or-tuples-or ndarrays with different lengths or shapes) is deprecated. If you meant to do this, you must specify 'dtype=object' when creating the ndarray.\n",
            "  X = np.atleast_1d(X.T if isinstance(X, np.ndarray) else np.asarray(X))\n"
          ]
        },
        {
          "output_type": "display_data",
          "data": {
            "text/plain": [
              "<Figure size 576x360 with 1 Axes>"
            ],
            "image/png": "[encoded data removed]"
          },
          "metadata": {}
        }
      ]
    },
    {
      "cell_type": "markdown",
      "source": [
        "El resultado del boxplot por el tamano del comercio y el precio de los productos vendidos, muestra que indistintamente del tamano del comercio el precio de los productos mas vendidos se situa entre los 100 y 200. Siendo el promedio aprox. 150. Siendo congruente esto con los resultados arrojados por historigrama de verificacion general de la variable precio del producto."
      ],
      "metadata": {
        "id": "PDGZXLLKmy-Z"
      }
    },
    {
      "cell_type": "code",
      "source": [],
      "metadata": {
        "id": "Vzs1vYf5nXub"
      },
      "execution_count": 39,
      "outputs": []
    },
    {
      "cell_type": "code",
      "source": [],
      "metadata": {
        "id": "O9a2qnLanKQ9"
      },
      "execution_count": 39,
      "outputs": []
    },
    {
      "cell_type": "markdown",
      "source": [
        "# Grafico de calor general de la muestra"
      ],
      "metadata": {
        "id": "nrwmSwUslJJo"
      }
    },
    {
      "cell_type": "code",
      "source": [
        "corr = df.corr()\n",
        "sns.heatmap(corr,cmap='Blues', annot=True)\n",
        "\n"
      ],
      "metadata": {
        "colab": {
          "base_uri": "https://localhost:8080/",
          "height": 479
        },
        "id": "FAb7USzRgjhD",
        "outputId": "bb43071d-125d-40ca-d2da-f012ab8f9de5"
      },
      "execution_count": 40,
      "outputs": [
        {
          "output_type": "execute_result",
          "data": {
            "text/plain": [
              "<matplotlib.axes._subplots.AxesSubplot at 0x7f038d169220>"
            ]
          },
          "metadata": {},
          "execution_count": 40
        },
        {
          "output_type": "display_data",
          "data": {
            "text/plain": [
              "<Figure size 576x396 with 2 Axes>"
            ],
            "image/png": "[encoded data removed]"
          },
          "metadata": {}
        }
      ]
    },
    {
      "cell_type": "markdown",
      "source": [
        "Se presenta posible relacion moderada entre las ventas y los precios de los productos."
      ],
      "metadata": {
        "id": "L1ZNv_A1mouN"
      }
    },
    {
      "cell_type": "code",
      "source": [
        "df.groupby(['Outlet_Size', 'Item_Identifier'])['Item_MRP'].mean()"
      ],
      "metadata": {
        "id": "P1NOWAqeclu0",
        "outputId": "850f6fea-18c4-45e0-dfd6-e1cce502ad34",
        "colab": {
          "base_uri": "https://localhost:8080/"
        }
      },
      "execution_count": 86,
      "outputs": [
        {
          "output_type": "execute_result",
          "data": {
            "text/plain": [
              "Outlet_Size  Item_Identifier\n",
              "High         DRA12                142.3154\n",
              "             DRA24                162.4868\n",
              "             DRA59                185.9924\n",
              "             DRB01                 190.953\n",
              "             DRB13                 189.253\n",
              "                                   ...    \n",
              "Small        NCZ30                120.7098\n",
              "             NCZ41                125.2704\n",
              "             NCZ42              236.891467\n",
              "             NCZ53                188.7214\n",
              "             NCZ54                161.7302\n",
              "Name: Item_MRP, Length: 3944, dtype: Float64"
            ]
          },
          "metadata": {},
          "execution_count": 86
        }
      ]
    },
    {
      "cell_type": "code",
      "source": [
        "small = df[serie_size_Small]\n",
        "medium = df[serie_size_medium]\n",
        "high = df[serie_size_High]\n",
        "plt.scatter(df['Item_MRP'],df['Item_Outlet_Sales'])\n",
        "#plt.scatter(small['Item_MRP'],small['Item_Outlet_Sales'])\n",
        "#plt.scatter(medium['Item_MRP'],medium['Item_Outlet_Sales'])\n",
        "#plt.scatter(high['Item_MRP'],high['Item_Outlet_Sales'])\n",
        "plt.title('Relacion precio del producto y volumen de ventas')\n",
        "plt.xlabel('Precio de producto')\n",
        "plt.ylabel('Monto Total vendido')\n",
        "plt.show()"
      ],
      "metadata": {
        "id": "ZYNt0ns-ZeF7",
        "outputId": "d6b0f4b5-d0dd-4bf7-8b1a-fa7f3663ed55",
        "colab": {
          "base_uri": "https://localhost:8080/",
          "height": 376
        }
      },
      "execution_count": 103,
      "outputs": [
        {
          "output_type": "display_data",
          "data": {
            "text/plain": [
              "<Figure size 576x396 with 1 Axes>"
            ],
            "image/png": "[encoded data removed]"
          },
          "metadata": {}
        }
      ]
    }
  ]
}